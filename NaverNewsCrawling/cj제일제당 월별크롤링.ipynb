{
 "cells": [
  {
   "cell_type": "code",
   "execution_count": 32,
   "id": "9a050e6f",
   "metadata": {},
   "outputs": [],
   "source": [
    "import requests\n",
    "from bs4 import BeautifulSoup\n",
    "import csv\n",
    "ds = \"2021.02.01\"  # 시작날 형식 입력\n",
    "de = \"2021.02.28\"  # 끝날 형식 입력\n",
    "start = -9  # page: 1부터 10씩 증가\n",
    "date_start = \"20210201\"\n",
    "date_end = \"20210228\"\n",
    "info = [\"ptd\"]\n",
    "while (True):\n",
    "    start = start + 10\n",
    "    raw = requests.get(\n",
    "        \"https://search.naver.com/search.naver?where=news&sm=tab_pge&query=CJ제일제당&sort=0&photo=0&field=0&pd=3&ds=\" + ds + \"&de=\" + de + \"&mynews=0&office_type=0&office_section_code=0&news_office_checked=&nso=so:r,p:from\" + date_start + \"to\" + date_end + \",a:all&start=\" + str(\n",
    "            start) + \"\",\n",
    "        headers={'User-Agent': 'Mozilla/5.0'})\n",
    "    html = BeautifulSoup(raw.text, \"html.parser\")\n",
    "    articles = html.select(\"ul.list_news > li\")\n",
    "    if (len(articles) == 1):\n",
    "        break\n",
    "    i = 0\n",
    "    for a in articles:\n",
    "        b = articles[i].select_one(\"a.news_tit\").text\n",
    "        #c = articles[i].select_one(\"a.info\").text\n",
    "        d = articles[i].select_one(\"a.api_txt_lines\").text\n",
    "        info.append([c, b, d])\n",
    "        i = i + 1\n",
    "list = info\n",
    "with open('cjjail_2021_02_news.csv', 'w', newline='', encoding='utf-8-sig') as file:\n",
    "    writer = csv.writer(file, quoting=csv.QUOTE_ALL,delimiter=',')\n",
    "    writer.writerows(list)"
   ]
  }
 ],
 "metadata": {
  "kernelspec": {
   "display_name": "Python 3",
   "language": "python",
   "name": "python3"
  },
  "language_info": {
   "codemirror_mode": {
    "name": "ipython",
    "version": 3
   },
   "file_extension": ".py",
   "mimetype": "text/x-python",
   "name": "python",
   "nbconvert_exporter": "python",
   "pygments_lexer": "ipython3",
   "version": "3.8.8"
  }
 },
 "nbformat": 4,
 "nbformat_minor": 5
}
