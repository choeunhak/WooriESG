{
 "cells": [
  {
   "cell_type": "code",
   "execution_count": 12,
   "id": "197eda62",
   "metadata": {},
   "outputs": [
    {
     "name": "stdout",
     "output_type": "stream",
     "text": [
      "coefficient= [ 2.29380071e+07  1.71469325e+08 -5.29466008e+07  4.16376735e+07\n",
      " -2.75476814e+07 -4.03998250e+07]\n",
      "intercept= 253772299996.81177\n",
      "R²= 0.7882584049911032\n"
     ]
    }
   ],
   "source": [
    "#선형회귀\n",
    "\n",
    "import pandas as pd\n",
    "df = pd.DataFrame({\n",
    "'EG':[141, 86, 40, 120, 51, 89, 126, 173, 117],\n",
    "'EB':[250, 92, 85, 129, 40, 84, 53, 96, 84],\n",
    "'SG':[475, 290, 278, 548, 404, 486, 624, 644, 650],\n",
    "'SB':[254, 260, 192, 358, 120, 479, 164, 102, 102],\n",
    "'GG':[262, 131, 69, 150, 296, 187, 167, 217, 102],\n",
    "'GB':[778, 158, 152, 134, 224, 337, 121, 111, 178],\n",
    "'CA':[630, 636,623,613,615,622,612,615,606,565,582,598,571]\n",
    "})\n",
    "\n",
    "X = df[['EG','EB', 'SG', 'SB', 'GG', 'GB']]\n",
    "Y = df['CA']\n",
    "\n",
    "from sklearn.linear_model import LinearRegression\n",
    "reg = LinearRegression().fit(X, Y)\n",
    "print( \"coefficient=\", reg.coef_ )\n",
    "print( \"intercept=\", reg.intercept_ )\n",
    "print( \"R²=\", reg.score(X, Y) )"
   ]
  },
  {
   "cell_type": "code",
   "execution_count": 18,
   "id": "2e147e87",
   "metadata": {},
   "outputs": [
    {
     "name": "stdout",
     "output_type": "stream",
     "text": [
      "[1275350904, 20409073, -603059040, -851157533, -20203555605, -11945037860, -13247822615, -26907855069, -12462380246]\n"
     ]
    }
   ],
   "source": [
    "print(result)"
   ]
  },
  {
   "cell_type": "code",
   "execution_count": null,
   "id": "b35f16d5",
   "metadata": {},
   "outputs": [],
   "source": []
  }
 ],
 "metadata": {
  "kernelspec": {
   "display_name": "Python 3",
   "language": "python",
   "name": "python3"
  },
  "language_info": {
   "codemirror_mode": {
    "name": "ipython",
    "version": 3
   },
   "file_extension": ".py",
   "mimetype": "text/x-python",
   "name": "python",
   "nbconvert_exporter": "python",
   "pygments_lexer": "ipython3",
   "version": "3.8.8"
  }
 },
 "nbformat": 4,
 "nbformat_minor": 5
}
